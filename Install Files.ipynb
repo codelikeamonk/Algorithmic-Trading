{
 "cells": [
  {
   "cell_type": "code",
   "execution_count": 8,
   "id": "24241ac3",
   "metadata": {},
   "outputs": [
    {
     "name": "stdout",
     "output_type": "stream",
     "text": [
      "Collecting smartapi-python\n",
      "  Downloading smartapi-python-1.3.0.tar.gz (13 kB)\n",
      "Requirement already satisfied: requests>=2.18.4 in /Users/jash/opt/anaconda3/lib/python3.9/site-packages (from smartapi-python) (2.27.1)\n",
      "Requirement already satisfied: six>=1.11.0 in /Users/jash/opt/anaconda3/lib/python3.9/site-packages (from smartapi-python) (1.16.0)\n",
      "Requirement already satisfied: python-dateutil>=2.6.1 in /Users/jash/opt/anaconda3/lib/python3.9/site-packages (from smartapi-python) (2.8.2)\n",
      "Requirement already satisfied: certifi>=2017.4.17 in /Users/jash/opt/anaconda3/lib/python3.9/site-packages (from requests>=2.18.4->smartapi-python) (2021.10.8)\n",
      "Requirement already satisfied: charset-normalizer~=2.0.0 in /Users/jash/opt/anaconda3/lib/python3.9/site-packages (from requests>=2.18.4->smartapi-python) (2.0.4)\n",
      "Requirement already satisfied: idna<4,>=2.5 in /Users/jash/opt/anaconda3/lib/python3.9/site-packages (from requests>=2.18.4->smartapi-python) (3.3)\n",
      "Requirement already satisfied: urllib3<1.27,>=1.21.1 in /Users/jash/opt/anaconda3/lib/python3.9/site-packages (from requests>=2.18.4->smartapi-python) (1.26.9)\n",
      "Building wheels for collected packages: smartapi-python\n",
      "  Building wheel for smartapi-python (setup.py) ... \u001b[?25ldone\n",
      "\u001b[?25h  Created wheel for smartapi-python: filename=smartapi_python-1.3.0-py3-none-any.whl size=14403 sha256=d70c72de5db3eb537857873a986d41ae6f1646f3a24b3df5b97a298fc1f7e194\n",
      "  Stored in directory: /Users/jash/Library/Caches/pip/wheels/69/f5/b8/afc35812776bd2a8427d14f07f544381afea159fd8188f7b52\n",
      "Successfully built smartapi-python\n",
      "Installing collected packages: smartapi-python\n",
      "Successfully installed smartapi-python-1.3.0\n",
      "Note: you may need to restart the kernel to use updated packages.\n"
     ]
    }
   ],
   "source": [
    "pip install smartapi-python"
   ]
  },
  {
   "cell_type": "code",
   "execution_count": 9,
   "id": "8d76d436",
   "metadata": {},
   "outputs": [
    {
     "name": "stdout",
     "output_type": "stream",
     "text": [
      "Requirement already satisfied: Twisted in /Users/jash/opt/anaconda3/lib/python3.9/site-packages (22.2.0)\n",
      "Requirement already satisfied: typing-extensions>=3.6.5 in /Users/jash/opt/anaconda3/lib/python3.9/site-packages (from Twisted) (4.1.1)\n",
      "Requirement already satisfied: zope.interface>=4.4.2 in /Users/jash/opt/anaconda3/lib/python3.9/site-packages (from Twisted) (5.4.0)\n",
      "Requirement already satisfied: constantly>=15.1 in /Users/jash/opt/anaconda3/lib/python3.9/site-packages (from Twisted) (15.1.0)\n",
      "Requirement already satisfied: attrs>=19.2.0 in /Users/jash/opt/anaconda3/lib/python3.9/site-packages (from Twisted) (21.4.0)\n",
      "Requirement already satisfied: incremental>=21.3.0 in /Users/jash/opt/anaconda3/lib/python3.9/site-packages (from Twisted) (21.3.0)\n",
      "Requirement already satisfied: hyperlink>=17.1.1 in /Users/jash/opt/anaconda3/lib/python3.9/site-packages (from Twisted) (21.0.0)\n",
      "Requirement already satisfied: Automat>=0.8.0 in /Users/jash/opt/anaconda3/lib/python3.9/site-packages (from Twisted) (20.2.0)\n",
      "Requirement already satisfied: six in /Users/jash/opt/anaconda3/lib/python3.9/site-packages (from Automat>=0.8.0->Twisted) (1.16.0)\n",
      "Requirement already satisfied: idna>=2.5 in /Users/jash/opt/anaconda3/lib/python3.9/site-packages (from hyperlink>=17.1.1->Twisted) (3.3)\n",
      "Requirement already satisfied: setuptools in /Users/jash/opt/anaconda3/lib/python3.9/site-packages (from zope.interface>=4.4.2->Twisted) (61.2.0)\n",
      "Note: you may need to restart the kernel to use updated packages.\n"
     ]
    }
   ],
   "source": [
    "pip install Twisted"
   ]
  },
  {
   "cell_type": "code",
   "execution_count": 10,
   "id": "a0ce64a8",
   "metadata": {},
   "outputs": [
    {
     "name": "stdout",
     "output_type": "stream",
     "text": [
      "Collecting autobahn\n",
      "  Downloading autobahn-22.7.1.tar.gz (476 kB)\n",
      "\u001b[K     |████████████████████████████████| 476 kB 5.1 MB/s eta 0:00:01\n",
      "\u001b[?25hCollecting txaio>=21.2.1\n",
      "  Downloading txaio-22.2.1-py2.py3-none-any.whl (30 kB)\n",
      "Requirement already satisfied: cryptography>=3.4.6 in /Users/jash/opt/anaconda3/lib/python3.9/site-packages (from autobahn) (3.4.8)\n",
      "Requirement already satisfied: hyperlink>=21.0.0 in /Users/jash/opt/anaconda3/lib/python3.9/site-packages (from autobahn) (21.0.0)\n",
      "Requirement already satisfied: setuptools in /Users/jash/opt/anaconda3/lib/python3.9/site-packages (from autobahn) (61.2.0)\n",
      "Requirement already satisfied: cffi>=1.12 in /Users/jash/opt/anaconda3/lib/python3.9/site-packages (from cryptography>=3.4.6->autobahn) (1.15.0)\n",
      "Requirement already satisfied: pycparser in /Users/jash/opt/anaconda3/lib/python3.9/site-packages (from cffi>=1.12->cryptography>=3.4.6->autobahn) (2.21)\n",
      "Requirement already satisfied: idna>=2.5 in /Users/jash/opt/anaconda3/lib/python3.9/site-packages (from hyperlink>=21.0.0->autobahn) (3.3)\n",
      "Building wheels for collected packages: autobahn\n",
      "  Building wheel for autobahn (setup.py) ... \u001b[?25ldone\n",
      "\u001b[?25h  Created wheel for autobahn: filename=autobahn-22.7.1-cp39-cp39-macosx_10_9_x86_64.whl size=672901 sha256=a8ad87fcc230f5daafd819c59f62b3734644cee6ab9e3c2d892818d842e19f54\n",
      "  Stored in directory: /Users/jash/Library/Caches/pip/wheels/82/27/54/7239425447126aa1864a562f3d3f9f19ed1be5530a48fe7e39\n",
      "Successfully built autobahn\n",
      "Installing collected packages: txaio, autobahn\n",
      "Successfully installed autobahn-22.7.1 txaio-22.2.1\n",
      "Note: you may need to restart the kernel to use updated packages.\n"
     ]
    }
   ],
   "source": [
    "pip install autobahn"
   ]
  },
  {
   "cell_type": "code",
   "execution_count": 11,
   "id": "2b0dc4bb",
   "metadata": {},
   "outputs": [
    {
     "name": "stdout",
     "output_type": "stream",
     "text": [
      "Requirement already satisfied: service-identity in /Users/jash/opt/anaconda3/lib/python3.9/site-packages (18.1.0)\n",
      "Requirement already satisfied: pyasn1 in /Users/jash/opt/anaconda3/lib/python3.9/site-packages (from service-identity) (0.4.8)\n",
      "Requirement already satisfied: pyasn1-modules in /Users/jash/opt/anaconda3/lib/python3.9/site-packages (from service-identity) (0.2.8)\n",
      "Requirement already satisfied: attrs>=16.0.0 in /Users/jash/opt/anaconda3/lib/python3.9/site-packages (from service-identity) (21.4.0)\n",
      "Requirement already satisfied: cryptography in /Users/jash/opt/anaconda3/lib/python3.9/site-packages (from service-identity) (3.4.8)\n",
      "Requirement already satisfied: cffi>=1.12 in /Users/jash/opt/anaconda3/lib/python3.9/site-packages (from cryptography->service-identity) (1.15.0)\n",
      "Requirement already satisfied: pycparser in /Users/jash/opt/anaconda3/lib/python3.9/site-packages (from cffi>=1.12->cryptography->service-identity) (2.21)\n",
      "Note: you may need to restart the kernel to use updated packages.\n"
     ]
    }
   ],
   "source": [
    "pip install service-identity"
   ]
  },
  {
   "cell_type": "code",
   "execution_count": null,
   "id": "be1ca928",
   "metadata": {},
   "outputs": [],
   "source": []
  }
 ],
 "metadata": {},
 "nbformat": 4,
 "nbformat_minor": 5
}
